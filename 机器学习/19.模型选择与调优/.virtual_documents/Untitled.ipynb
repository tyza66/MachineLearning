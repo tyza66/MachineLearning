import pandas as pd


# 获取数据
data = pd.read_csv("./FBlocation/train.csv")

