import pandas as pd


# 获取数据
data = pd.read_csv("./FBlocation/train.csv")


data.head()


# 进行基本数据处理
# 1 缩小数据范围
data = data.query("x<2.5 & x>2 & y<1.5 & y>1")


data.head()


# 2 处理时间特征
time_value = pd.to_datetime(data["time"],unit="s")


date = pd.DatetimeIndex(time_value)


data["day"] = date.day


data["weekday"] =  date.weekday


data["hour"] =  date.hour


data.head()


# 3 过滤掉签到次数比较少的地点
place_count = data.groupby("place_id").count()["row_id"]


place_count[place_count > 3].head() # 使用布尔索引去过滤


data_final = data[data["place_id"].isin(place_count[place_count > 3].index.values)]  # 先找到索引存在的位置 之后再对data进行布尔索引


# 筛选特征值和目标值
x = data_final[["x","y","accuracy","day","weekday","hour"]]
y = data_final["place_id"]


x.head()


y.head()


# 数据集划分
