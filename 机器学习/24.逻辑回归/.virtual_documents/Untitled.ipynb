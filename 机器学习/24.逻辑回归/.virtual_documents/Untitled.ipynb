import pandas as pd
import numpy as np


# 读取数据
column_name = ['Sample code number', 'Clump Thickness', 'Uniformity of Cell Size', 'Uniformity of Cell Shape',
                   'Marginal Adhesion', 'Single Epithelial Cell Size', 'Bare Nuclei', 'Bland Chromatin',
                   'Normal Nucleoli', 'Mitoses', 'Class']

data = pd.read_csv("./cancer/breast-cancer-wisconsin.data", names=column_name)


data.head()


# 缺失值处理
data = data.replace(to_replace="?",value=np.nan) # 用于删除数据框中包含 NaN（缺失值）的行
data.dropna(inplace=True)


data.isnull().any() # 全是false 说明不存咋缺失值


data.head()


# 筛选特征值和目标值
x = data.iloc[:,1:-1]
y = data["Class"]


x.head()


y.head()


from sklearn.model_selection import train_test_split
x_train,x_test,y_train,y_test = train_test_split(x,y)


from sklearn.preprocessing import StandardScaler


# 进行标准化
transfer = StandardScaler()
x_train = transfer.fit_transform(x_train)
x_test = transfer.transform(x_test)


from sklearn.linear_model import LogisticRegression


estimator = LogisticRegression()
estimator.fit(x_train,y_train)


# 逻辑模型的回归参数与偏置
print("逻辑模型-权重系数为：\n", estimator.coef_)
print("逻辑模型-偏置为：\n", estimator.intercept_)


# 模型评估
y_predict = estimator.predict(x_test) # 获得预测值
print("预测值为：", y_predict)
print("比对真实值和预测值：", y_test == y_predict) # 比对真实值和预测值

# 方法2：计算准确率
score = estimator.score(x_test, y_test)
print("准确率为：", score)


# 查看精确率\召回率\F1-score
from sklearn.metrics import classification_report


report = classification_report(y_test,y_predict,labels=[2,4],target_names=["良性","恶性"]) #support是数量 最关键的是recall召回率


print(report)



