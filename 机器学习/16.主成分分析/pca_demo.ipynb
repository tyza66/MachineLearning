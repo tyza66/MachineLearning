{
 "cells": [
  {
   "cell_type": "code",
   "execution_count": null,
   "id": "810003f1-becb-4e45-b77b-9631b86ff244",
   "metadata": {},
   "outputs": [],
   "source": [
    "# 第一步: 获取数据\n",
    "# 第二步: 合并表\n",
    "# 第三步: 找到user_id和aisle之间的关系\n",
    "# 第四步: PCA降维"
   ]
  },
  {
   "cell_type": "code",
   "execution_count": null,
   "id": "540bc179-cfe9-4d51-8321-a5b67ec64768",
   "metadata": {},
   "outputs": [],
   "source": []
  }
 ],
 "metadata": {
  "kernelspec": {
   "display_name": "Python 3 (ipykernel)",
   "language": "python",
   "name": "python3"
  },
  "language_info": {
   "codemirror_mode": {
    "name": "ipython",
    "version": 3
   },
   "file_extension": ".py",
   "mimetype": "text/x-python",
   "name": "python",
   "nbconvert_exporter": "python",
   "pygments_lexer": "ipython3",
   "version": "3.13.1"
  }
 },
 "nbformat": 4,
 "nbformat_minor": 5
}
